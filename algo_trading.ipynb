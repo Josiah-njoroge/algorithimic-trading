{
 "cells": [
  {
   "cell_type": "markdown",
   "id": "45d0fe36-55a3-4398-bfc7-5b7609801a3e",
   "metadata": {},
   "source": [
    "EQUAL-WEIGHT SP-500 SCREENER"
   ]
  },
  {
   "cell_type": "markdown",
   "id": "5ae58e81-a1ee-49c6-bef0-e13fb5bcf912",
   "metadata": {},
   "source": [
    "The SP-500 is the world's most popular stock market index.\n"
   ]
  }
 ],
 "metadata": {
  "kernelspec": {
   "display_name": "Python 3 (ipykernel)",
   "language": "python",
   "name": "python3"
  },
  "language_info": {
   "codemirror_mode": {
    "name": "ipython",
    "version": 3
   },
   "file_extension": ".py",
   "mimetype": "text/x-python",
   "name": "python",
   "nbconvert_exporter": "python",
   "pygments_lexer": "ipython3",
   "version": "3.13.5"
  }
 },
 "nbformat": 4,
 "nbformat_minor": 5
}
