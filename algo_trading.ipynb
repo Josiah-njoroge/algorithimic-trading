{
 "cells": [
  {
   "cell_type": "markdown",
   "id": "45d0fe36-55a3-4398-bfc7-5b7609801a3e",
   "metadata": {},
   "source": [
    "EQUAL-WEIGHT S&P 500 SCREENER"
   ]
  },
  {
   "cell_type": "markdown",
   "id": "5ae58e81-a1ee-49c6-bef0-e13fb5bcf912",
   "metadata": {},
   "source": [
    "The S&P 500 is the world's most popular stock market index.\n",
    "Many investment funds are benchmarked to the S&P 500. This means that they seek to replicate the performance of this index by owning all the stocks that are held in the index."
   ]
  },
  {
   "cell_type": "markdown",
   "id": "e37b73e7-9d06-4fe5-967a-cc450c49d52b",
   "metadata": {},
   "source": [
    "One of the most important characteristics of the SP 500 is that it is market capitalization weighted.\n",
    "This means that larger companies get a corresponding larger weight in the index.\n",
    "This project aims to create an alternative for the S&P 500 where each company has the same weighting."
   ]
  },
  {
   "cell_type": "markdown",
   "id": "125e985b-cb6b-4f82-b248-e8080d73cb92",
   "metadata": {},
   "source": [
    "Introduction & Library Imports\n",
    "The S&P 500 is the world's most popular stock market index. The largest fund that is benchmarked to this index is the SPDR® S&P 500® ETF Trust. It has more than US$250 billion of assets under management."
   ]
  },
  {
   "cell_type": "code",
   "execution_count": 4,
   "id": "affd6d9c-c5fb-48c1-8c51-f11519be1d28",
   "metadata": {},
   "outputs": [],
   "source": [
    "import numpy as np\n",
    "import pandas as pd\n",
    "import requests\n",
    "import xlsxwriter\n",
    "import math"
   ]
  },
  {
   "cell_type": "markdown",
   "id": "6e9e64ab-a6be-4a95-a5a8-28b21277ce7f",
   "metadata": {},
   "source": [
    "Importing Our List Of Stocks \n",
    "The next is to import the constituents of the S&P 500. These constituents can change over time so in an ideal world you would connect directly to the index provider(Standard or Paid) and put their real-time constituents on regular basis."
   ]
  },
  {
   "cell_type": "code",
   "execution_count": 6,
   "id": "7eec3389-2f14-4a94-be3d-d084f8aa5986",
   "metadata": {},
   "outputs": [
    {
     "name": "stdout",
     "output_type": "stream",
     "text": [
      "    Ticker\n",
      "0        A\n",
      "1      AAL\n",
      "2      AAP\n",
      "3     AAPL\n",
      "4     ABBV\n",
      "..     ...\n",
      "500    YUM\n",
      "501    ZBH\n",
      "502   ZBRA\n",
      "503   ZION\n",
      "504    ZTS\n",
      "\n",
      "[505 rows x 1 columns]\n"
     ]
    }
   ],
   "source": [
    "stocks = pd.read_csv('sp_500_stocks.csv')\n",
    "print(stocks)"
   ]
  },
  {
   "cell_type": "markdown",
   "id": "49251f40-3679-4fdc-8d2b-41f9e34c7f09",
   "metadata": {},
   "source": [
    "Acquiring An API Token\n",
    "\n",
    "API tokens (and other sensitive information) should be stored in a secrets.py file that doesn't get pushed to your local Git repository. We'll be using a sandbox API token in this project, which means that the data we'll use is randomly-generated and (more importantly) has no cost associated with it."
   ]
  }
 ],
 "metadata": {
  "kernelspec": {
   "display_name": "Python 3 (ipykernel)",
   "language": "python",
   "name": "python3"
  },
  "language_info": {
   "codemirror_mode": {
    "name": "ipython",
    "version": 3
   },
   "file_extension": ".py",
   "mimetype": "text/x-python",
   "name": "python",
   "nbconvert_exporter": "python",
   "pygments_lexer": "ipython3",
   "version": "3.13.5"
  }
 },
 "nbformat": 4,
 "nbformat_minor": 5
}
